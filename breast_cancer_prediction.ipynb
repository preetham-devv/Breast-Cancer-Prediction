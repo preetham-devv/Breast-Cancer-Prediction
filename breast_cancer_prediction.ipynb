{
 "cells": [
  {
   "cell_type": "code",
   "execution_count": 8,
   "id": "a624f39a-de3f-4252-bae5-58c79d726f39",
   "metadata": {},
   "outputs": [],
   "source": [
    "# 1. Import necessary libraries\n",
    "import pandas as pd\n",
    "import numpy as np\n",
    "from sklearn.model_selection import train_test_split, GridSearchCV\n",
    "from sklearn.svm import SVC\n",
    "from sklearn.metrics import accuracy_score\n",
    "from sklearn.preprocessing import StandardScaler\n"
   ]
  },
  {
   "cell_type": "code",
   "execution_count": 18,
   "id": "71bde49f-df30-472e-82bf-d78fef56b6dd",
   "metadata": {},
   "outputs": [],
   "source": [
    "# 2. Load and prepare the data\n",
    "# Assuming the data is in a CSV file named 'breast_cancer_data.csv'\n",
    "data = pd.read_csv('/Users/preetham/Downloads/breast-cancer.csv')\n",
    "X = data.iloc[:, 1:10]  # Exclude case number and target\n",
    "y = data.iloc[:, 10]    # Target variable"
   ]
  },
  {
   "cell_type": "code",
   "execution_count": 21,
   "id": "d5318fe1-7019-48fc-ac52-201ac4ee5e3a",
   "metadata": {},
   "outputs": [],
   "source": [
    "# 3. Split the data into training and testing sets\n",
    "X_train, X_test, y_train, y_test = train_test_split(X, y, test_size=0.2, random_state=42)\n",
    "\n",
    "# Scale the features\n",
    "scaler = StandardScaler()\n",
    "X_train_scaled = scaler.fit_transform(X_train)\n",
    "X_test_scaled = scaler.transform(X_test)\n",
    "\n"
   ]
  },
  {
   "cell_type": "code",
   "execution_count": 23,
   "id": "932322a8-2de7-4573-b5c8-5bc0f5c1ac80",
   "metadata": {},
   "outputs": [],
   "source": [
    "# 4. Create functions for model training, cross-validation, and testing\n",
    "def train_and_evaluate_model(model, param_grid, X_train, y_train, X_test, y_test):\n",
    "    grid_search = GridSearchCV(model, param_grid, cv=5, scoring='accuracy')\n",
    "    grid_search.fit(X_train, y_train)\n",
    "\n",
    "    best_model = grid_search.best_estimator_\n",
    "    cv_score = grid_search.best_score_\n",
    "    test_score = best_model.score(X_test, y_test)\n",
    "\n",
    "    return best_model, cv_score, test_score"
   ]
  },
  {
   "cell_type": "code",
   "execution_count": 25,
   "id": "a968c5a2-0c7c-4f99-84d6-ba77e833265a",
   "metadata": {},
   "outputs": [
    {
     "name": "stdout",
     "output_type": "stream",
     "text": [
      "Linear SVM Results:\n",
      "Best parameters: {'C': 0.1, 'break_ties': False, 'cache_size': 200, 'class_weight': None, 'coef0': 0.0, 'decision_function_shape': 'ovr', 'degree': 3, 'gamma': 'scale', 'kernel': 'linear', 'max_iter': -1, 'probability': False, 'random_state': None, 'shrinking': True, 'tol': 0.001, 'verbose': False}\n",
      "Cross-validation accuracy: 0.9624\n",
      "Test accuracy: 0.9643\n"
     ]
    }
   ],
   "source": [
    "# 5. Implement Linear SVM with hyperparameter tuning\n",
    "linear_svm = SVC(kernel='linear')\n",
    "linear_param_grid = {'C': [0.1, 1, 10, 100]}\n",
    "\n",
    "best_linear_svm, linear_cv_score, linear_test_score = train_and_evaluate_model(\n",
    "    linear_svm, linear_param_grid, X_train_scaled, y_train, X_test_scaled, y_test\n",
    ")\n",
    "\n",
    "print(\"Linear SVM Results:\")\n",
    "print(f\"Best parameters: {best_linear_svm.get_params()}\")\n",
    "print(f\"Cross-validation accuracy: {linear_cv_score:.4f}\")\n",
    "print(f\"Test accuracy: {linear_test_score:.4f}\")\n"
   ]
  },
  {
   "cell_type": "code",
   "execution_count": 27,
   "id": "7b851ab3-4bd8-45f4-b4ed-aa1dacea12d2",
   "metadata": {},
   "outputs": [
    {
     "name": "stdout",
     "output_type": "stream",
     "text": [
      "\n",
      "Kernel SVM Results:\n",
      "Best parameters: {'C': 0.1, 'break_ties': False, 'cache_size': 200, 'class_weight': None, 'coef0': 0.0, 'decision_function_shape': 'ovr', 'degree': 3, 'gamma': 'scale', 'kernel': 'rbf', 'max_iter': -1, 'probability': False, 'random_state': None, 'shrinking': True, 'tol': 0.001, 'verbose': False}\n",
      "Cross-validation accuracy: 0.9642\n",
      "Test accuracy: 0.9643\n"
     ]
    }
   ],
   "source": [
    "# 6. Implement Kernel SVM (RBF and Linear) with hyperparameter tuning\n",
    "kernel_svm = SVC()\n",
    "kernel_param_grid = {\n",
    "    'kernel': ['rbf', 'linear'],\n",
    "    'C': [0.1, 1, 10, 100],\n",
    "    'gamma': ['scale', 'auto', 0.1, 1]\n",
    "}\n",
    "\n",
    "best_kernel_svm, kernel_cv_score, kernel_test_score = train_and_evaluate_model(\n",
    "    kernel_svm, kernel_param_grid, X_train_scaled, y_train, X_test_scaled, y_test\n",
    ")\n",
    "\n",
    "print(\"\\nKernel SVM Results:\")\n",
    "print(f\"Best parameters: {best_kernel_svm.get_params()}\")\n",
    "print(f\"Cross-validation accuracy: {kernel_cv_score:.4f}\")\n",
    "print(f\"Test accuracy: {kernel_test_score:.4f}\")"
   ]
  }
 ],
 "metadata": {
  "kernelspec": {
   "display_name": "Python 3 (ipykernel)",
   "language": "python",
   "name": "python3"
  },
  "language_info": {
   "codemirror_mode": {
    "name": "ipython",
    "version": 3
   },
   "file_extension": ".py",
   "mimetype": "text/x-python",
   "name": "python",
   "nbconvert_exporter": "python",
   "pygments_lexer": "ipython3",
   "version": "3.11.7"
  }
 },
 "nbformat": 4,
 "nbformat_minor": 5
}
